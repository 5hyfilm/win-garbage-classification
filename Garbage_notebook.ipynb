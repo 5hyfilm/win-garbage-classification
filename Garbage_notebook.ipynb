{
  "nbformat": 4,
  "nbformat_minor": 0,
  "metadata": {
    "colab": {
      "name": "Garbage_notebook.ipynb",
      "provenance": [],
      "collapsed_sections": [],
      "include_colab_link": true
    },
    "kernelspec": {
      "name": "python3",
      "display_name": "Python 3"
    },
    "accelerator": "GPU"
  },
  "cells": [
    {
      "cell_type": "markdown",
      "metadata": {
        "id": "view-in-github",
        "colab_type": "text"
      },
      "source": [
        "<a href=\"https://colab.research.google.com/github/filmerxyz/GarbageClassification/blob/master/Garbage_notebook.ipynb\" target=\"_parent\"><img src=\"https://colab.research.google.com/assets/colab-badge.svg\" alt=\"Open In Colab\"/></a>"
      ]
    },
    {
      "cell_type": "markdown",
      "metadata": {
        "id": "aOeO-jVXS8Jp",
        "colab_type": "text"
      },
      "source": [
        "# Install Split Folders"
      ]
    },
    {
      "cell_type": "code",
      "metadata": {
        "id": "adPz6VH2HrFr",
        "colab_type": "code",
        "colab": {
          "base_uri": "https://localhost:8080/",
          "height": 109
        },
        "outputId": "aebe7c76-23fa-49e7-8881-f90a0be6fd5d"
      },
      "source": [
        "!pip install split-folders"
      ],
      "execution_count": 1,
      "outputs": [
        {
          "output_type": "stream",
          "text": [
            "Collecting split-folders\n",
            "  Downloading https://files.pythonhosted.org/packages/20/67/29dda743e6d23ac1ea3d16704d8bbb48d65faf3f1b1eaf53153b3da56c56/split_folders-0.3.1-py3-none-any.whl\n",
            "Installing collected packages: split-folders\n",
            "Successfully installed split-folders-0.3.1\n"
          ],
          "name": "stdout"
        }
      ]
    },
    {
      "cell_type": "markdown",
      "metadata": {
        "id": "Kuvn3Rt-TQt8",
        "colab_type": "text"
      },
      "source": [
        "# Import Libraries"
      ]
    },
    {
      "cell_type": "code",
      "metadata": {
        "id": "OBD_27-cHlLw",
        "colab_type": "code",
        "colab": {}
      },
      "source": [
        "import tensorflow as tf\n",
        "from tensorflow import keras\n",
        "from tensorflow.keras import backend as K\n",
        "from tensorflow.keras import models\n",
        "from tensorflow.keras.models import Sequential, Model\n",
        "from tensorflow.keras.layers import Conv2D, MaxPooling2D, Dense, Dropout, Activation, Flatten, BatchNormalization, GlobalAveragePooling2D\n",
        "from tensorflow.keras.preprocessing import image\n",
        "from tensorflow.keras.preprocessing.image import ImageDataGenerator, load_img, img_to_array\n",
        "from tensorflow.keras.applications.imagenet_utils import preprocess_input\n",
        "from tensorflow.keras.optimizers import Adam\n",
        "from tensorflow.keras.callbacks import ModelCheckpoint, EarlyStopping, ReduceLROnPlateau\n",
        "from tensorflow.keras import regularizers\n",
        "\n",
        "from sklearn.utils import class_weight\n",
        "from sklearn.metrics import classification_report, confusion_matrix, precision_recall_fscore_support\n",
        "\n",
        "import pandas as pd\n",
        "import numpy as np\n",
        "import matplotlib.pyplot as plt\n",
        "import itertools\n",
        "\n",
        "import shutil\n",
        "import os\n",
        "from os.path import join\n",
        "\n",
        "import split_folders\n",
        "\n",
        "from garbage_utils import *"
      ],
      "execution_count": 2,
      "outputs": []
    },
    {
      "cell_type": "code",
      "metadata": {
        "id": "wB1LXhT8JVq3",
        "colab_type": "code",
        "colab": {}
      },
      "source": [
        "tf.compat.v1.disable_eager_execution()"
      ],
      "execution_count": 3,
      "outputs": []
    },
    {
      "cell_type": "markdown",
      "metadata": {
        "id": "RfqL0GZzTjjT",
        "colab_type": "text"
      },
      "source": [
        "# Hyperparameters"
      ]
    },
    {
      "cell_type": "code",
      "metadata": {
        "id": "E6tWs3wgL3u3",
        "colab_type": "code",
        "colab": {}
      },
      "source": [
        "IMG_WIDTH = 224\n",
        "IMG_HEIGHT = 224\n",
        "\n",
        "BATCH_SIZE = 32\n",
        "\n",
        "LR = 3e-5\n",
        "\n",
        "EPOCHS = 30"
      ],
      "execution_count": 4,
      "outputs": []
    },
    {
      "cell_type": "markdown",
      "metadata": {
        "id": "fG9e20t_TS1u",
        "colab_type": "text"
      },
      "source": [
        "# Data"
      ]
    },
    {
      "cell_type": "code",
      "metadata": {
        "id": "spDoWnPBIpTr",
        "colab_type": "code",
        "colab": {
          "base_uri": "https://localhost:8080/",
          "height": 143
        },
        "outputId": "8dfc8a37-6fe0-412a-b8a7-39e98c279ee6"
      },
      "source": [
        "!git clone https://github.com/EvilPickle-PCSHSPT/GarbageClassification_dataset"
      ],
      "execution_count": 5,
      "outputs": [
        {
          "output_type": "stream",
          "text": [
            "Cloning into 'GarbageClassification_dataset'...\n",
            "remote: Enumerating objects: 2549, done.\u001b[K\n",
            "remote: Counting objects: 100% (2549/2549), done.\u001b[K\n",
            "remote: Compressing objects: 100% (2545/2545), done.\u001b[K\n",
            "remote: Total 2549 (delta 4), reused 2548 (delta 3), pack-reused 0\u001b[K\n",
            "Receiving objects: 100% (2549/2549), 40.45 MiB | 19.98 MiB/s, done.\n",
            "Resolving deltas: 100% (4/4), done.\n"
          ],
          "name": "stdout"
        }
      ]
    },
    {
      "cell_type": "code",
      "metadata": {
        "id": "gK3AJYM9LBmJ",
        "colab_type": "code",
        "colab": {
          "base_uri": "https://localhost:8080/",
          "height": 35
        },
        "outputId": "c341421c-5476-4080-86fa-9927dc44d241"
      },
      "source": [
        "mkdir_dir('/content/data_folder')"
      ],
      "execution_count": 6,
      "outputs": [
        {
          "output_type": "stream",
          "text": [
            "Directory  /content/data_folder  Created \n"
          ],
          "name": "stdout"
        }
      ]
    },
    {
      "cell_type": "markdown",
      "metadata": {
        "id": "FVgPdYS-TgOj",
        "colab_type": "text"
      },
      "source": [
        "## Split"
      ]
    },
    {
      "cell_type": "code",
      "metadata": {
        "id": "Kmxkx8NbLDQq",
        "colab_type": "code",
        "colab": {
          "base_uri": "https://localhost:8080/",
          "height": 35
        },
        "outputId": "59911ca9-617f-4309-e718-6a1315303b88"
      },
      "source": [
        "split_folders.ratio('/content/GarbageClassification_dataset/images', \n",
        "                    output='/content/data_folder', \n",
        "                    seed=1337, \n",
        "                    ratio=(0.63, 0.27, 0.10))"
      ],
      "execution_count": 7,
      "outputs": [
        {
          "output_type": "stream",
          "text": [
            "Copying files: 2527 files [00:00, 7402.83 files/s]\n"
          ],
          "name": "stderr"
        }
      ]
    },
    {
      "cell_type": "code",
      "metadata": {
        "id": "dZRy9zxaLo_l",
        "colab_type": "code",
        "colab": {}
      },
      "source": [
        "train_path = '/content/data_folder/train'\n",
        "val_path = '/content/data_folder/val'\n",
        "test_path = '/content/data_folder/test'"
      ],
      "execution_count": 8,
      "outputs": []
    },
    {
      "cell_type": "code",
      "metadata": {
        "id": "AsoDb3Z_Ly4U",
        "colab_type": "code",
        "colab": {}
      },
      "source": [
        "train_gen = ImageDataGenerator(rescale=1. / 255,\n",
        "                               rotation_range=0,\n",
        "                               width_shift_range=0.3,\n",
        "                               height_shift_range=0.3,\n",
        "                               horizontal_flip=True,\n",
        "                               vertical_flip=True,)\n",
        "\n",
        "val_gen = ImageDataGenerator(rescale=1. / 255)\n",
        "\n",
        "test_gen = ImageDataGenerator(rescale=1. / 255)"
      ],
      "execution_count": 9,
      "outputs": []
    },
    {
      "cell_type": "code",
      "metadata": {
        "id": "CeKuHrNyL5FD",
        "colab_type": "code",
        "colab": {
          "base_uri": "https://localhost:8080/",
          "height": 71
        },
        "outputId": "d6c9ea13-037f-4b58-c47f-13d5010f661f"
      },
      "source": [
        "train_datagen = train_gen.flow_from_directory(batch_size=BATCH_SIZE,\n",
        "                                          directory=train_path,\n",
        "                                          shuffle=True,\n",
        "                                          target_size=(IMG_WIDTH, IMG_HEIGHT), #(224,224)\n",
        "                                          class_mode='categorical')\n",
        "\n",
        "val_datagen = val_gen.flow_from_directory(batch_size=BATCH_SIZE,\n",
        "                                          directory=val_path,\n",
        "                                          shuffle=True,\n",
        "                                          target_size=(IMG_WIDTH, IMG_HEIGHT), #(224,224)\n",
        "                                          class_mode='categorical')\n",
        "\n",
        "test_datagen = test_gen.flow_from_directory(batch_size=1,\n",
        "                                          directory=test_path,\n",
        "                                          shuffle=False,\n",
        "                                          target_size=(IMG_WIDTH, IMG_HEIGHT), #(224,224)\n",
        "                                          class_mode=None)"
      ],
      "execution_count": 10,
      "outputs": [
        {
          "output_type": "stream",
          "text": [
            "Found 1589 images belonging to 6 classes.\n",
            "Found 679 images belonging to 6 classes.\n",
            "Found 259 images belonging to 6 classes.\n"
          ],
          "name": "stdout"
        }
      ]
    },
    {
      "cell_type": "markdown",
      "metadata": {
        "id": "5Jm0YOzcTVHk",
        "colab_type": "text"
      },
      "source": [
        "# Model"
      ]
    },
    {
      "cell_type": "code",
      "metadata": {
        "id": "_mDKOjo8L70Q",
        "colab_type": "code",
        "colab": {}
      },
      "source": [
        "def build_model():\n",
        "    base_model = tf.keras.applications.nasnet.NASNetMobile(input_shape=(IMG_WIDTH, IMG_HEIGHT, 3), include_top=False, weights='imagenet')\n",
        "    base_model.trainable = True\n",
        "\n",
        "    average_pooling_layer = tf.keras.layers.GlobalAveragePooling2D()(base_model.output)\n",
        "    prediction_layer = tf.keras.layers.Dense(units=6, activation='softmax', name='prediction')(average_pooling_layer)\n",
        "    model = tf.keras.models.Model(inputs=base_model.input, outputs=prediction_layer)\n",
        "    \n",
        "    return model"
      ],
      "execution_count": 11,
      "outputs": []
    },
    {
      "cell_type": "code",
      "metadata": {
        "id": "d5EZjG2UMDsA",
        "colab_type": "code",
        "colab": {
          "base_uri": "https://localhost:8080/",
          "height": 127
        },
        "outputId": "46fcae1b-76b1-4b37-b83d-581459b720b3"
      },
      "source": [
        "model = build_model()"
      ],
      "execution_count": 12,
      "outputs": [
        {
          "output_type": "stream",
          "text": [
            "WARNING:tensorflow:From /usr/local/lib/python3.6/dist-packages/tensorflow/python/ops/resource_variable_ops.py:1666: calling BaseResourceVariable.__init__ (from tensorflow.python.ops.resource_variable_ops) with constraint is deprecated and will be removed in a future version.\n",
            "Instructions for updating:\n",
            "If using Keras pass *_constraint arguments to layers.\n",
            "Downloading data from https://storage.googleapis.com/tensorflow/keras-applications/nasnet/NASNet-mobile-no-top.h5\n",
            "19996672/19993432 [==============================] - 0s 0us/step\n"
          ],
          "name": "stdout"
        }
      ]
    },
    {
      "cell_type": "code",
      "metadata": {
        "id": "KnfBGnABMqUL",
        "colab_type": "code",
        "colab": {}
      },
      "source": [
        "model.compile(optimizer=Adam(LR), loss='categorical_crossentropy', metrics=['accuracy'])"
      ],
      "execution_count": 13,
      "outputs": []
    },
    {
      "cell_type": "code",
      "metadata": {
        "id": "26ULnL-3MIuy",
        "colab_type": "code",
        "colab": {}
      },
      "source": [
        "model_checkpoint = ModelCheckpoint(filepath='/content/garbage_model.h5', save_best_only=True, monitor='val_loss', mode='min')"
      ],
      "execution_count": 14,
      "outputs": []
    },
    {
      "cell_type": "code",
      "metadata": {
        "id": "a5TWOZpEMFdq",
        "colab_type": "code",
        "colab": {
          "base_uri": "https://localhost:8080/",
          "height": 1000
        },
        "outputId": "1aee5213-ff2d-46f3-e8e4-1c2d5bf5812d"
      },
      "source": [
        "history = model.fit(train_datagen,\n",
        "                    validation_data=val_datagen,\n",
        "                    epochs=EPOCHS,\n",
        "                    callbacks=[model_checkpoint],\n",
        "                    verbose=1)"
      ],
      "execution_count": 33,
      "outputs": [
        {
          "output_type": "stream",
          "text": [
            "Epoch 1/30\n",
            "50/50 [==============================] - 38s 766ms/step - loss: 0.0182 - accuracy: 0.9956 - val_loss: 0.4606 - val_accuracy: 0.8733\n",
            "Epoch 2/30\n",
            "50/50 [==============================] - 37s 745ms/step - loss: 0.0143 - accuracy: 0.9962 - val_loss: 0.4265 - val_accuracy: 0.8748\n",
            "Epoch 3/30\n",
            "50/50 [==============================] - 37s 742ms/step - loss: 0.0165 - accuracy: 0.9956 - val_loss: 0.4018 - val_accuracy: 0.8866\n",
            "Epoch 4/30\n",
            "50/50 [==============================] - 38s 762ms/step - loss: 0.0180 - accuracy: 0.9950 - val_loss: 0.3802 - val_accuracy: 0.8792\n",
            "Epoch 5/30\n",
            "50/50 [==============================] - 38s 750ms/step - loss: 0.0104 - accuracy: 0.9981 - val_loss: 0.3906 - val_accuracy: 0.8807\n",
            "Epoch 6/30\n",
            "50/50 [==============================] - 37s 743ms/step - loss: 0.0139 - accuracy: 0.9956 - val_loss: 0.3773 - val_accuracy: 0.8851\n",
            "Epoch 7/30\n",
            "50/50 [==============================] - 37s 742ms/step - loss: 0.0103 - accuracy: 0.9975 - val_loss: 0.3632 - val_accuracy: 0.8866\n",
            "Epoch 8/30\n",
            "50/50 [==============================] - 37s 736ms/step - loss: 0.0093 - accuracy: 0.9981 - val_loss: 0.3850 - val_accuracy: 0.8881\n",
            "Epoch 9/30\n",
            "50/50 [==============================] - 38s 758ms/step - loss: 0.0119 - accuracy: 0.9969 - val_loss: 0.3609 - val_accuracy: 0.8881\n",
            "Epoch 10/30\n",
            "50/50 [==============================] - 42s 834ms/step - loss: 0.0172 - accuracy: 0.9950 - val_loss: 0.3382 - val_accuracy: 0.9043\n",
            "Epoch 11/30\n",
            "50/50 [==============================] - 37s 730ms/step - loss: 0.0111 - accuracy: 0.9956 - val_loss: 0.3680 - val_accuracy: 0.8954\n",
            "Epoch 12/30\n",
            "50/50 [==============================] - 37s 738ms/step - loss: 0.0098 - accuracy: 0.9962 - val_loss: 0.3820 - val_accuracy: 0.8881\n",
            "Epoch 13/30\n",
            "50/50 [==============================] - 37s 740ms/step - loss: 0.0137 - accuracy: 0.9931 - val_loss: 0.4117 - val_accuracy: 0.8807\n",
            "Epoch 14/30\n",
            "50/50 [==============================] - 37s 743ms/step - loss: 0.0115 - accuracy: 0.9969 - val_loss: 0.4083 - val_accuracy: 0.8881\n",
            "Epoch 15/30\n",
            "50/50 [==============================] - 38s 750ms/step - loss: 0.0099 - accuracy: 0.9981 - val_loss: 0.3421 - val_accuracy: 0.8999\n",
            "Epoch 16/30\n",
            "50/50 [==============================] - 37s 748ms/step - loss: 0.0085 - accuracy: 0.9981 - val_loss: 0.3402 - val_accuracy: 0.8895\n",
            "Epoch 17/30\n",
            "50/50 [==============================] - 37s 749ms/step - loss: 0.0112 - accuracy: 0.9969 - val_loss: 0.3571 - val_accuracy: 0.8940\n",
            "Epoch 18/30\n",
            "50/50 [==============================] - 37s 747ms/step - loss: 0.0129 - accuracy: 0.9956 - val_loss: 0.3706 - val_accuracy: 0.9043\n",
            "Epoch 19/30\n",
            "50/50 [==============================] - 37s 749ms/step - loss: 0.0085 - accuracy: 0.9981 - val_loss: 0.3553 - val_accuracy: 0.9102\n",
            "Epoch 20/30\n",
            "50/50 [==============================] - 38s 754ms/step - loss: 0.0089 - accuracy: 0.9969 - val_loss: 0.3478 - val_accuracy: 0.9161\n",
            "Epoch 21/30\n",
            "50/50 [==============================] - 42s 830ms/step - loss: 0.0103 - accuracy: 0.9975 - val_loss: 0.3360 - val_accuracy: 0.9043\n",
            "Epoch 22/30\n",
            "50/50 [==============================] - 37s 737ms/step - loss: 0.0159 - accuracy: 0.9943 - val_loss: 0.3438 - val_accuracy: 0.9057\n",
            "Epoch 23/30\n",
            "50/50 [==============================] - 37s 744ms/step - loss: 0.0123 - accuracy: 0.9950 - val_loss: 0.3553 - val_accuracy: 0.9057\n",
            "Epoch 24/30\n",
            "50/50 [==============================] - 37s 745ms/step - loss: 0.0160 - accuracy: 0.9956 - val_loss: 0.3656 - val_accuracy: 0.9072\n",
            "Epoch 25/30\n",
            "50/50 [==============================] - 37s 742ms/step - loss: 0.0064 - accuracy: 0.9994 - val_loss: 0.3830 - val_accuracy: 0.9131\n",
            "Epoch 26/30\n",
            "50/50 [==============================] - 37s 738ms/step - loss: 0.0098 - accuracy: 0.9962 - val_loss: 0.3466 - val_accuracy: 0.9043\n",
            "Epoch 27/30\n",
            "50/50 [==============================] - 36s 727ms/step - loss: 0.0135 - accuracy: 0.9962 - val_loss: 0.3551 - val_accuracy: 0.9028\n",
            "Epoch 28/30\n",
            "50/50 [==============================] - 37s 736ms/step - loss: 0.0072 - accuracy: 0.9981 - val_loss: 0.3567 - val_accuracy: 0.9057\n",
            "Epoch 29/30\n",
            "50/50 [==============================] - 41s 818ms/step - loss: 0.0106 - accuracy: 0.9969 - val_loss: 0.3238 - val_accuracy: 0.9116\n",
            "Epoch 30/30\n",
            "50/50 [==============================] - 36s 720ms/step - loss: 0.0086 - accuracy: 0.9969 - val_loss: 0.3450 - val_accuracy: 0.9175\n"
          ],
          "name": "stdout"
        }
      ]
    },
    {
      "cell_type": "markdown",
      "metadata": {
        "id": "tMdfyN1oTnF0",
        "colab_type": "text"
      },
      "source": [
        "# Graph"
      ]
    },
    {
      "cell_type": "markdown",
      "metadata": {
        "id": "6qwb4bVDTorH",
        "colab_type": "text"
      },
      "source": [
        "## Accuracy"
      ]
    },
    {
      "cell_type": "code",
      "metadata": {
        "id": "oGnVgQtjMfL5",
        "colab_type": "code",
        "colab": {
          "base_uri": "https://localhost:8080/",
          "height": 295
        },
        "outputId": "541b6f97-7a4e-49ea-9b74-03aaa15a51ff"
      },
      "source": [
        "plt.plot(history.history['accuracy'])\n",
        "plt.plot(history.history['val_accuracy'])\n",
        "plt.ylabel('accuracy')\n",
        "plt.xlabel('epoch')\n",
        "plt.legend(['train', 'val'], loc='upper left')\n",
        "plt.title('accuracy')\n",
        "plt.show()"
      ],
      "execution_count": 34,
      "outputs": [
        {
          "output_type": "display_data",
          "data": {
            "image/png": "[encoded data removed]",
            "text/plain": [
              "<Figure size 432x288 with 1 Axes>"
            ]
          },
          "metadata": {
            "tags": [],
            "needs_background": "light"
          }
        }
      ]
    },
    {
      "cell_type": "markdown",
      "metadata": {
        "id": "SMcHnqMDTp4J",
        "colab_type": "text"
      },
      "source": [
        "# Loss"
      ]
    },
    {
      "cell_type": "code",
      "metadata": {
        "id": "DM8W5RJvMhcc",
        "colab_type": "code",
        "colab": {
          "base_uri": "https://localhost:8080/",
          "height": 295
        },
        "outputId": "54c4d868-ea98-4949-badc-9c79f2d17f54"
      },
      "source": [
        "plt.plot(history.history['loss'])\n",
        "plt.plot(history.history['val_loss'])\n",
        "plt.ylabel('loss')\n",
        "plt.xlabel('epoch')\n",
        "plt.legend(['train', 'val'], loc='upper left')\n",
        "plt.title('loss')\n",
        "plt.show()"
      ],
      "execution_count": 35,
      "outputs": [
        {
          "output_type": "display_data",
          "data": {
            "image/png": "[encoded data removed]",
            "text/plain": [
              "<Figure size 432x288 with 1 Axes>"
            ]
          },
          "metadata": {
            "tags": [],
            "needs_background": "light"
          }
        }
      ]
    },
    {
      "cell_type": "markdown",
      "metadata": {
        "id": "Mx06xqYITYom",
        "colab_type": "text"
      },
      "source": [
        "# Evaluate"
      ]
    },
    {
      "cell_type": "code",
      "metadata": {
        "id": "wTaBO4idQ4UJ",
        "colab_type": "code",
        "colab": {}
      },
      "source": [
        "test_model = tf.keras.models.load_model('/content/garbage_model.h5')"
      ],
      "execution_count": 36,
      "outputs": []
    },
    {
      "cell_type": "code",
      "metadata": {
        "id": "xJaKH96ORXEz",
        "colab_type": "code",
        "colab": {}
      },
      "source": [
        "test_labels = test_datagen.classes\n",
        "predictions = test_model.predict(test_datagen, steps=test_datagen.samples, verbose=1)"
      ],
      "execution_count": 37,
      "outputs": []
    },
    {
      "cell_type": "markdown",
      "metadata": {
        "id": "ZUvuHixNTso2",
        "colab_type": "text"
      },
      "source": [
        "# Confusion Matrix"
      ]
    },
    {
      "cell_type": "code",
      "metadata": {
        "id": "bMihx4QyRGUp",
        "colab_type": "code",
        "colab": {}
      },
      "source": [
        "cm = confusion_matrix(test_labels, predictions.argmax(axis=1))\n",
        "\n",
        "cm_plot_labels = ['paper', 'cardboard', 'trash', 'metal', 'glass', 'plastic']"
      ],
      "execution_count": 38,
      "outputs": []
    },
    {
      "cell_type": "code",
      "metadata": {
        "id": "gj265qgMSIbb",
        "colab_type": "code",
        "colab": {
          "base_uri": "https://localhost:8080/",
          "height": 423
        },
        "outputId": "e1240d80-e379-41e3-e9a1-c595fe669d8f"
      },
      "source": [
        "plot_confusion_matrix(cm, cm_plot_labels)"
      ],
      "execution_count": 39,
      "outputs": [
        {
          "output_type": "stream",
          "text": [
            "Confusion matrix, without normalization\n",
            "[[34  0  0  7  0  1]\n",
            " [ 0 51  0  0  0  0]\n",
            " [ 0  2 37  1  2  0]\n",
            " [ 0  0  0 58  2  0]\n",
            " [ 0  5  1  1 41  1]\n",
            " [ 0  1  0  1  0 13]]\n"
          ],
          "name": "stdout"
        },
        {
          "output_type": "display_data",
          "data": {
            "image/png": "[encoded data removed]",
            "text/plain": [
              "<Figure size 432x288 with 2 Axes>"
            ]
          },
          "metadata": {
            "tags": [],
            "needs_background": "light"
          }
        }
      ]
    },
    {
      "cell_type": "code",
      "metadata": {
        "id": "rTZJBSVRSLNu",
        "colab_type": "code",
        "colab": {
          "base_uri": "https://localhost:8080/",
          "height": 423
        },
        "outputId": "345f70a1-ba59-4893-c51a-e0106761d512"
      },
      "source": [
        "plot_confusion_matrix(cm, cm_plot_labels, True)"
      ],
      "execution_count": 40,
      "outputs": [
        {
          "output_type": "stream",
          "text": [
            "Normalized confusion matrix\n",
            "[[0.80952381 0.         0.         0.16666667 0.         0.02380952]\n",
            " [0.         1.         0.         0.         0.         0.        ]\n",
            " [0.         0.04761905 0.88095238 0.02380952 0.04761905 0.        ]\n",
            " [0.         0.         0.         0.96666667 0.03333333 0.        ]\n",
            " [0.         0.10204082 0.02040816 0.02040816 0.83673469 0.02040816]\n",
            " [0.         0.06666667 0.         0.06666667 0.         0.86666667]]\n"
          ],
          "name": "stdout"
        },
        {
          "output_type": "display_data",
          "data": {
            "image/png": "[encoded data removed]",
            "text/plain": [
              "<Figure size 432x288 with 2 Axes>"
            ]
          },
          "metadata": {
            "tags": [],
            "needs_background": "light"
          }
        }
      ]
    },
    {
      "cell_type": "code",
      "metadata": {
        "id": "XxbSCrPORQpD",
        "colab_type": "code",
        "colab": {
          "base_uri": "https://localhost:8080/",
          "height": 395
        },
        "outputId": "0ae266d4-c1a2-4c95-d24e-fd23630837d8"
      },
      "source": [
        "y_pred = np.argmax(predictions, axis=1)\n",
        "print('Confusion Matrix')\n",
        "print(confusion_matrix(test_labels, y_pred))\n",
        "print('Classification Report')\n",
        "print(classification_report(test_labels, y_pred, target_names=cm_plot_labels))"
      ],
      "execution_count": 41,
      "outputs": [
        {
          "output_type": "stream",
          "text": [
            "Confusion Matrix\n",
            "[[34  0  0  7  0  1]\n",
            " [ 0 51  0  0  0  0]\n",
            " [ 0  2 37  1  2  0]\n",
            " [ 0  0  0 58  2  0]\n",
            " [ 0  5  1  1 41  1]\n",
            " [ 0  1  0  1  0 13]]\n",
            "Classification Report\n",
            "              precision    recall  f1-score   support\n",
            "\n",
            "       paper       1.00      0.81      0.89        42\n",
            "   cardboard       0.86      1.00      0.93        51\n",
            "       trash       0.97      0.88      0.93        42\n",
            "       metal       0.85      0.97      0.91        60\n",
            "       glass       0.91      0.84      0.87        49\n",
            "     plastic       0.87      0.87      0.87        15\n",
            "\n",
            "    accuracy                           0.90       259\n",
            "   macro avg       0.91      0.89      0.90       259\n",
            "weighted avg       0.91      0.90      0.90       259\n",
            "\n"
          ],
          "name": "stdout"
        }
      ]
    },
    {
      "cell_type": "code",
      "metadata": {
        "id": "Yn558cHai7Nn",
        "colab_type": "code",
        "colab": {}
      },
      "source": [
        ""
      ],
      "execution_count": null,
      "outputs": []
    }
  ]
}